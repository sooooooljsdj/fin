{
 "cells": [
  {
   "cell_type": "code",
   "execution_count": null,
   "id": "9eaf75e9",
   "metadata": {},
   "outputs": [],
   "source": [
    "#4.1 Создайте совокупности sin вида sin(1),sin(2), . . . ,sin(100) и cos вида cos(1), cos(2), . . . , cos(100)."
   ]
  },
  {
   "cell_type": "code",
   "execution_count": 86,
   "id": "22e0ff78",
   "metadata": {},
   "outputs": [],
   "source": [
    "import math\n",
    "import numpy\n",
    "a = []\n",
    "b = []\n",
    "for i in range(1, 101):\n",
    "    a.append(math.cos(i))\n",
    "    b.append(math.sin(i))"
   ]
  },
  {
   "cell_type": "code",
   "execution_count": 87,
   "id": "e6d10923",
   "metadata": {},
   "outputs": [],
   "source": [
    "#   a) Найдите эмпирическое среднее и эмпирическое стандартное отклонение совокупности sin"
   ]
  },
  {
   "cell_type": "code",
   "execution_count": 88,
   "id": "80cb5d58",
   "metadata": {},
   "outputs": [
    {
     "name": "stdout",
     "output_type": "stream",
     "text": [
      "-0.0012717101366041973\n",
      "-0.0012717101366042016\n"
     ]
    }
   ],
   "source": [
    "# эмпирическое среднее\n",
    "avg_sin = sum(b)/100\n",
    "print(avg_sin)\n",
    "avg_sin = numpy.mean(b)\n",
    "print(avg_sin)"
   ]
  },
  {
   "cell_type": "code",
   "execution_count": 89,
   "id": "1c8d140a",
   "metadata": {},
   "outputs": [
    {
     "name": "stdout",
     "output_type": "stream",
     "text": [
      "0.7090008871157724\n"
     ]
    }
   ],
   "source": [
    "# эмпирическое стандартное отклонение\n",
    "st_dev_sin = numpy.std(b)\n",
    "print(st_dev_sin)"
   ]
  },
  {
   "cell_type": "code",
   "execution_count": 90,
   "id": "1ecc1c5f",
   "metadata": {},
   "outputs": [
    {
     "name": "stdout",
     "output_type": "stream",
     "text": [
      "0.7090008871157725\n"
     ]
    }
   ],
   "source": [
    "# эмпирическое стандартное отклонение\n",
    "disp_sin = 0\n",
    "for i in b:\n",
    "    disp_sin += (i-avg_sin)**2\n",
    "disp_sin /= 100\n",
    "print(disp_sin**0.5)"
   ]
  },
  {
   "cell_type": "code",
   "execution_count": 91,
   "id": "30402164",
   "metadata": {},
   "outputs": [],
   "source": [
    "#   б) Найдите четвертый эмпирический центральный момент и эмпирический эксцесс."
   ]
  },
  {
   "cell_type": "code",
   "execution_count": 92,
   "id": "a5f2daae",
   "metadata": {},
   "outputs": [
    {
     "name": "stdout",
     "output_type": "stream",
     "text": [
      "0.3769798806655724\n"
     ]
    }
   ],
   "source": [
    "# четвертый эмпирический центральный момент\n",
    "cent_4_sin = 0\n",
    "for i in b:\n",
    "    cent_4_sin += (i-avg_sin)**4\n",
    "cent_4_sin /= 100\n",
    "print(cent_4_sin)"
   ]
  },
  {
   "cell_type": "code",
   "execution_count": 131,
   "id": "7faeabaf",
   "metadata": {},
   "outputs": [
    {
     "name": "stdout",
     "output_type": "stream",
     "text": [
      "-1.508129733839079\n"
     ]
    }
   ],
   "source": [
    "excess_sin = cent_4_sin/(st_dev_sin**4) - 3\n",
    "print(excess_sin)"
   ]
  },
  {
   "cell_type": "code",
   "execution_count": 140,
   "id": "1117c311",
   "metadata": {},
   "outputs": [
    {
     "data": {
      "text/plain": [
       "-1.5081297338390796"
      ]
     },
     "execution_count": 140,
     "metadata": {},
     "output_type": "execute_result"
    }
   ],
   "source": [
    "# проверка\n",
    "from scipy.stats import kurtosis\n",
    "kurtosis(b)"
   ]
  },
  {
   "cell_type": "code",
   "execution_count": 94,
   "id": "5f9c8d31",
   "metadata": {},
   "outputs": [],
   "source": [
    "#   в) Постройте график эмпирической функции распределения совокупности sin."
   ]
  },
  {
   "cell_type": "code",
   "execution_count": 95,
   "id": "4e810da2",
   "metadata": {},
   "outputs": [],
   "source": [
    "b_unique = sorted(list(set(b)))\n",
    "b_count = []\n",
    "prev = 0\n",
    "for i in b_unique:\n",
    "    Count = b.count(i)\n",
    "    b_count.append(Count + prev)\n",
    "    prev += Count \n"
   ]
  },
  {
   "cell_type": "code",
   "execution_count": 96,
   "id": "3d7f4a71",
   "metadata": {},
   "outputs": [],
   "source": [
    "from matplotlib import pyplot as plt"
   ]
  },
  {
   "cell_type": "code",
   "execution_count": 97,
   "id": "0a0e7e03",
   "metadata": {},
   "outputs": [],
   "source": [
    "x_sin = b_unique \n",
    "y_sin = b_count"
   ]
  },
  {
   "cell_type": "code",
   "execution_count": 98,
   "id": "156dca58",
   "metadata": {},
   "outputs": [
    {
     "data": {
      "image/png": "[encoded data removed]",
      "text/plain": [
       "<Figure size 432x288 with 1 Axes>"
      ]
     },
     "metadata": {
      "needs_background": "light"
     },
     "output_type": "display_data"
    }
   ],
   "source": [
    "plt.plot(x_sin,y_sin)   \n",
    "   \n",
    "plt.title(\"График эмпирической функции распределения совокупности sin\")   \n",
    "plt.ylabel('nx')   \n",
    "plt.xlabel('x')   \n",
    "plt.show()"
   ]
  },
  {
   "cell_type": "code",
   "execution_count": 99,
   "id": "5bea85eb",
   "metadata": {},
   "outputs": [],
   "source": [
    "#   г) Постройте на одном рисунке графики эмпирических функций распределения совокупностей: sin и cos."
   ]
  },
  {
   "cell_type": "code",
   "execution_count": 100,
   "id": "6d9214c8",
   "metadata": {},
   "outputs": [],
   "source": [
    "a_unique = sorted(list(set(a)))\n",
    "a_count = []\n",
    "prev = 0\n",
    "for i in a_unique:\n",
    "    Count = a.count(i)\n",
    "    a_count.append(Count + prev)\n",
    "    prev += Count "
   ]
  },
  {
   "cell_type": "code",
   "execution_count": 101,
   "id": "ec61827d",
   "metadata": {},
   "outputs": [],
   "source": [
    "x_cos = a_unique \n",
    "y_cos = a_count"
   ]
  },
  {
   "cell_type": "code",
   "execution_count": 102,
   "id": "ccce8dce",
   "metadata": {},
   "outputs": [
    {
     "data": {
      "image/png": "[encoded data removed]",
      "text/plain": [
       "<Figure size 1080x360 with 1 Axes>"
      ]
     },
     "metadata": {
      "needs_background": "light"
     },
     "output_type": "display_data"
    }
   ],
   "source": [
    "plt.figure(figsize=(15,5)) \n",
    "plt.plot(x_sin,y_sin, color = 'red', linestyle='dotted')   \n",
    "plt.plot(x_cos,y_cos, color = 'green', linestyle='dotted') \n",
    "   \n",
    "plt.title(\"sin и cos\")   \n",
    "plt.ylabel('nx')   \n",
    "plt.xlabel('x')   \n",
    "plt.show()"
   ]
  },
  {
   "cell_type": "code",
   "execution_count": 103,
   "id": "9efff7b5",
   "metadata": {},
   "outputs": [],
   "source": [
    "#   д) Найдите эмпирический коэффициент корреляции признаков sin и cos на совокупности натуральных чисел от 1 до 100."
   ]
  },
  {
   "cell_type": "code",
   "execution_count": 113,
   "id": "950ece32",
   "metadata": {},
   "outputs": [
    {
     "data": {
      "text/plain": [
       "array([[ 0.5023109 , -0.00138064],\n",
       "       [-0.00138064,  0.50775986]])"
      ]
     },
     "execution_count": 113,
     "metadata": {},
     "output_type": "execute_result"
    }
   ],
   "source": [
    "# через ковариацию\n",
    "numpy.cov(a, b)"
   ]
  },
  {
   "cell_type": "code",
   "execution_count": 114,
   "id": "bdb2a5a0",
   "metadata": {},
   "outputs": [
    {
     "data": {
      "text/plain": [
       "-0.0013806362556833822"
      ]
     },
     "execution_count": 114,
     "metadata": {},
     "output_type": "execute_result"
    }
   ],
   "source": [
    "cov = numpy.cov(a, b)[0, 1]\n",
    "cov"
   ]
  },
  {
   "cell_type": "code",
   "execution_count": 115,
   "id": "ba59f995",
   "metadata": {},
   "outputs": [
    {
     "data": {
      "text/plain": [
       "-0.002761395396326852"
      ]
     },
     "execution_count": 115,
     "metadata": {},
     "output_type": "execute_result"
    }
   ],
   "source": [
    "cor = cov / (numpy.std(b) * numpy.std(a))\n",
    "cor"
   ]
  },
  {
   "cell_type": "code",
   "execution_count": 118,
   "id": "4650d7bc",
   "metadata": {
    "scrolled": true
   },
   "outputs": [
    {
     "data": {
      "text/plain": [
       "-0.002733781442363583"
      ]
     },
     "execution_count": 118,
     "metadata": {},
     "output_type": "execute_result"
    }
   ],
   "source": [
    "# проверка\n",
    "numpy.corrcoef(a, b)[0, 1]"
   ]
  },
  {
   "cell_type": "code",
   "execution_count": 120,
   "id": "5dd22aa8",
   "metadata": {},
   "outputs": [],
   "source": [
    "# 4.2 Найдите эмпирическую асимметрию совокупности всех простых чисел от 3 до 99991. \n",
    "# Найдите эмпирический эксцесс совокупности, полученной из предыдущей совокупности добавлением чисел со знаком «минус»."
   ]
  },
  {
   "cell_type": "code",
   "execution_count": 125,
   "id": "81b3b8a6",
   "metadata": {},
   "outputs": [
    {
     "name": "stdout",
     "output_type": "stream",
     "text": [
      "99991\n"
     ]
    }
   ],
   "source": [
    "import sympy\n",
    "primes = list(sympy.primerange(3, 99991+1))"
   ]
  },
  {
   "cell_type": "code",
   "execution_count": 128,
   "id": "c7534658",
   "metadata": {},
   "outputs": [
    {
     "data": {
      "text/plain": [
       "0.08788574351776632"
      ]
     },
     "execution_count": 128,
     "metadata": {},
     "output_type": "execute_result"
    }
   ],
   "source": [
    "# среднее\n",
    "primes_mean = numpy.mean(primes)\n",
    "# третий эмпирический центральный момент\n",
    "mu_3_primes = 0\n",
    "for i in primes:\n",
    "    mu_3_primes += (i-primes_mean)**3\n",
    "mu_3_primes /= len(primes)\n",
    "# стандартное отклонение\n",
    "primes_std = numpy.std(primes)\n",
    "# ассиметрия \n",
    "primes_As = mu_3_primes/(primes_std**3)\n",
    "primes_As"
   ]
  },
  {
   "cell_type": "code",
   "execution_count": 130,
   "id": "d5192154",
   "metadata": {},
   "outputs": [
    {
     "data": {
      "text/plain": [
       "0.08788574351776704"
      ]
     },
     "execution_count": 130,
     "metadata": {},
     "output_type": "execute_result"
    }
   ],
   "source": [
    "# проверка\n",
    "from scipy.stats import skew\n",
    "skew(primes)"
   ]
  },
  {
   "cell_type": "code",
   "execution_count": null,
   "id": "9c3ad8fa",
   "metadata": {},
   "outputs": [],
   "source": [
    "# Найдите эмпирический эксцесс совокупности, полученной из предыдущей совокупности добавлением чисел со знаком «минус»."
   ]
  },
  {
   "cell_type": "code",
   "execution_count": 139,
   "id": "86b74839",
   "metadata": {},
   "outputs": [],
   "source": [
    "primes2 = [-x for x in primes]\n",
    "primes2.extend(primes)"
   ]
  },
  {
   "cell_type": "code",
   "execution_count": 142,
   "id": "220e88c4",
   "metadata": {},
   "outputs": [
    {
     "data": {
      "text/plain": [
       "-1.0926019048834879"
      ]
     },
     "execution_count": 142,
     "metadata": {},
     "output_type": "execute_result"
    }
   ],
   "source": [
    "# эксцесс\n",
    "kurtosis(primes2)"
   ]
  },
  {
   "cell_type": "code",
   "execution_count": null,
   "id": "c448c72e",
   "metadata": {},
   "outputs": [],
   "source": [
    "S = list(sympy.primerange(10, 100))\n",
    "lenS = len(S)"
   ]
  },
  {
   "cell_type": "code",
   "execution_count": 144,
   "id": "2704dcfe",
   "metadata": {},
   "outputs": [
    {
     "data": {
      "text/plain": [
       "41.781014648871015"
      ]
     },
     "execution_count": 144,
     "metadata": {},
     "output_type": "execute_result"
    }
   ],
   "source": [
    "# среднее геометрическое (G)\n",
    "import statistics\n",
    "G = statistics.geometric_mean(S)\n",
    "G"
   ]
  },
  {
   "cell_type": "code",
   "execution_count": 146,
   "id": "6061ce8e",
   "metadata": {},
   "outputs": [
    {
     "data": {
      "text/plain": [
       "41.781014648871"
      ]
     },
     "execution_count": 146,
     "metadata": {},
     "output_type": "execute_result"
    }
   ],
   "source": [
    "# проверка по формуле\n",
    "temp = 1\n",
    "for i in range(0, lenS) :\n",
    "    temp = temp * S[i]\n",
    "math.pow(temp, (1 / lenS))\n"
   ]
  },
  {
   "cell_type": "code",
   "execution_count": 147,
   "id": "62fb2aae",
   "metadata": {},
   "outputs": [
    {
     "data": {
      "text/plain": [
       "33.51277429915806"
      ]
     },
     "execution_count": 147,
     "metadata": {},
     "output_type": "execute_result"
    }
   ],
   "source": [
    "# среднее гармоническое (H)\n",
    "H = statistics.harmonic_mean(S)\n",
    "H"
   ]
  }
 ],
 "metadata": {
  "kernelspec": {
   "display_name": "Python 3 (ipykernel)",
   "language": "python",
   "name": "python3"
  },
  "language_info": {
   "codemirror_mode": {
    "name": "ipython",
    "version": 3
   },
   "file_extension": ".py",
   "mimetype": "text/x-python",
   "name": "python",
   "nbconvert_exporter": "python",
   "pygments_lexer": "ipython3",
   "version": "3.10.4"
  }
 },
 "nbformat": 4,
 "nbformat_minor": 5
}
